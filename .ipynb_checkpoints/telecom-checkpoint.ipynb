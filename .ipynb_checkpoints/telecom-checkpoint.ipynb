{
 "cells": [
  {
   "cell_type": "markdown",
   "id": "0f99c5b3-1c4d-4286-b848-3e0de04ddd96",
   "metadata": {},
   "source": [
    "# Business Understanding\n",
    "The goal is to identify and predict patterns and factors that contribute to customer churn, helping telecom companies improve retention strategies. This allows the business to intervene early and potentially reduce customer loss, hence saving revenue. The audience is the telecom business. The telecom business is interested in reducing income as a result of customers not sticking around for long. \n",
    "\n",
    "## Question: How accurate is the churn prediction model in identifying customers who are likely to leave?\n",
    "\n",
    "Analytics/KPIs:\n",
    "\n",
    "* Model Accuracy / Precision / Recall / F1 Score\n",
    "\n",
    "* ROC-AUC Score (overall model performance)\n",
    "\n",
    "* Confusion Matrix (True Positives, False Positives, etc.)\n",
    "\n",
    "* Lift and Gain Charts (effectiveness of the model at different thresholds)"
   ]
  },
  {
   "cell_type": "markdown",
   "id": "72e5ba69-c50a-43b0-a469-6adf51fb308d",
   "metadata": {},
   "source": [
    "## Data Understanding\n",
    "Exploratory Data Analysis: Telecom_Churn\n",
    "Objective\n",
    "To develop a predictive model for customer churn in a telecom company, aiming to accurately classify whether a customer is likely to leave or stay.\n",
    "\n",
    "Data Overview\n",
    "Import necessary libraries\n",
    "Load the dataset\n",
    "Clean the dataset\n",
    "Split into features and target\n",
    "Train Random Forest classifier\n",
    "Plot Confusion Matrix\n",
    "Visualization"
   ]
  },
  {
   "cell_type": "code",
   "execution_count": null,
   "id": "36fe78aa-226d-43d9-9aab-5bec23c4078b",
   "metadata": {},
   "outputs": [],
   "source": [
    "import pandas as pd\n",
    "from sklearn.model_selection import train_test_split\n",
    "from sklearn.preprocessing import StandardScaler\n",
    "from sklearn.ensemble import RandomForestClassifier\n",
    "from sklearn.metrics import (\n",
    "    accuracy_score, precision_score, recall_score, f1_score,\n",
    "    roc_auc_score, confusion_matrix, classification_report\n",
    ")\n",
    "import seaborn as sns\n",
    "import matplotlib.pyplot as plt\n",
    "from sklearn.linear_model import LogisticRegression\n",
    "from sklearn.ensemble import RandomForestClassifier\n",
    "from sklearn.tree import DecisionTreeClassifier\n",
    "from sklearn.svm import SVC\n",
    "\n",
    "\n",
    "# Load the dataset\n",
    "df = pd.read_csv('telecom_churn.csv')\n",
    "df.head()\n"
   ]
  },
  {
   "cell_type": "code",
   "execution_count": null,
   "id": "e6afae44-db26-486a-965d-68042b9113c0",
   "metadata": {},
   "outputs": [],
   "source": [
    "df.info()"
   ]
  },
  {
   "cell_type": "markdown",
   "id": "46aac42e-af61-4722-b8cf-954bc7c69b16",
   "metadata": {},
   "source": [
    "1. A simple, interpretable baseline model (logistic regression or single decision tree)\n",
    "   \n",
    "2. version of the simple model with tuned hyperparameters\n",
    "\n",
    " Split: 80% training and 20% testing, stratified on the target (Churn), ensuring balanced class distribution in both sets. \n",
    "\n",
    "Scaling: All features standardized using StandardScaler—essential for most ML algorithms that assume normally-distributed da.ta"
   ]
  },
  {
   "cell_type": "code",
   "execution_count": null,
   "id": "7a12d5dd-a096-4458-99a7-a1b8d1915d96",
   "metadata": {},
   "outputs": [],
   "source": []
  }
 ],
 "metadata": {
  "kernelspec": {
   "display_name": "Python 3 (ipykernel)",
   "language": "python",
   "name": "python3"
  },
  "language_info": {
   "codemirror_mode": {
    "name": "ipython",
    "version": 3
   },
   "file_extension": ".py",
   "mimetype": "text/x-python",
   "name": "python",
   "nbconvert_exporter": "python",
   "pygments_lexer": "ipython3",
   "version": "3.11.7"
  }
 },
 "nbformat": 4,
 "nbformat_minor": 5
}
